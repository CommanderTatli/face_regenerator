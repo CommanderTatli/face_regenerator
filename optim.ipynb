{
 "cells": [
  {
   "cell_type": "markdown",
   "metadata": {},
   "source": [
    "# Hiperparaméterek optimalizációja"
   ]
  },
  {
   "cell_type": "markdown",
   "metadata": {},
   "source": [
    "A paraméteroptimalizációhoz a Bayesi optimalizációs technikát alkalmazom. Ehhez meg kell hívni a szükséges könyvtárat."
   ]
  },
  {
   "cell_type": "code",
   "execution_count": 1,
   "metadata": {},
   "outputs": [
    {
     "name": "stdout",
     "output_type": "stream",
     "text": [
      "importing Jupyter notebook from model.ipynb\n"
     ]
    }
   ],
   "source": [
    "#uncomment the next line if the package is not yet installed in your machine\n",
    "#!pip install bayesian-optimization\n",
    "from bayes_opt import BayesianOptimization\n",
    "import sys\n",
    "sys.path.append('c:\\\\users\\\\ifjto\\\\appdata\\\\local\\\\programs\\\\python\\\\python37\\\\lib\\\\site-packages')\n",
    "import numpy as np\n",
    "import import_ipynb\n",
    "from model import *\n",
    "import torch\n",
    "from torch import nn\n",
    "from torch.utils.data import *\n",
    "import torch.optim as optim\n",
    "import torch.cuda\n",
    "import torchvision.transforms as transforms\n",
    "import cv2\n",
    "import os\n",
    "import time\n",
    "from IPython.display import Image\n",
    "%matplotlib inline\n",
    "import matplotlib\n",
    "import matplotlib.pyplot as plt"
   ]
  },
  {
   "cell_type": "markdown",
   "metadata": {},
   "source": [
    "Az optimalizálandó paraméterek értékkészletét állítsuk be. Természetesen nem megengedhetőek az óriási értékek, mivel nincs rá elegendő számítási kapacitás - áldozatot kell hoznunk. Ezen persze segíthetünk azzal, hogy több kicsi optimalizálást futtatunk, és megpróbáljuk kitalálni, hogy melyik paraméterértékek túl kicsik vagy nagyok, így szűkítve az optimalizáló értékkészletét. Néhány magyarázat a választott határokhoz:"
   ]
  },
  {
   "cell_type": "code",
   "execution_count": 2,
   "metadata": {},
   "outputs": [],
   "source": [
    "# the maximum number of pictures included in each epoch\n",
    "TRAIN_SIZE = 5000\n",
    "AUTO_LR = 1e-3\n",
    "DISC_LR = 1e-4\n",
    "NUM_EPOCH = 10\n",
    "\n",
    "pbounds = {'nFeat' : (3, 15),\n",
    "           'dropout' : (0, 0.6),\n",
    "           'auto_lr' : (-7, -2),\n",
    "           'disc_lr' : (-7, -4),\n",
    "           'ratio' : (0.2, 0.8),\n",
    "           'steps_without_disc' : (2, 8),\n",
    "           'decay' : (-9, -3)}"
   ]
  },
  {
   "cell_type": "markdown",
   "metadata": {},
   "source": [
    "Olvassuk be az adatokat egyszer, hogy ne kelljen minden hiperparaméterkombinációra megint."
   ]
  },
  {
   "cell_type": "code",
   "execution_count": 3,
   "metadata": {},
   "outputs": [
    {
     "data": {
      "application/vnd.jupyter.widget-view+json": {
       "model_id": "297dfb7e5e304907934b3f6e3d65477c",
       "version_major": 2,
       "version_minor": 0
      },
      "text/plain": [
       "VBox(children=(HTML(value=''), IntProgress(value=0, max=5468)))"
      ]
     },
     "metadata": {},
     "output_type": "display_data"
    },
    {
     "name": "stdout",
     "output_type": "stream",
     "text": [
      "Epoch size: 1000\n",
      "10936 images loaded\n"
     ]
    }
   ],
   "source": [
    "trainloader, testloader, validationloader, discriminator_dataset, disc_loader = get_data(32, TRAIN_SIZE)"
   ]
  },
  {
   "cell_type": "markdown",
   "metadata": {},
   "source": [
    "Készítsünk egy függvényt, amit az optimalizálónk tud használni. A függvény felelőssége legyen, hogy csak elfogadható értékekkel híva a train-t."
   ]
  },
  {
   "cell_type": "code",
   "execution_count": 4,
   "metadata": {},
   "outputs": [],
   "source": [
    "def test_parameters(auto_lr, disc_lr, ratio, dropout, steps_without_disc, decay, nFeat):\n",
    "    global trainloader, testloader, discriminator_dataset, disc_loader\n",
    "    NUM_EPOCH = 20\n",
    "    auto_lr = pow(10, auto_lr)\n",
    "    disc_lr = pow(10, disc_lr)\n",
    "    steps_without_disc = int(round(steps_without_disc))\n",
    "    decay = pow(10, decay)\n",
    "    \n",
    "    # redirecting stdout to avoid disturbing prints\n",
    "    original_out = sys.stdout\n",
    "    sys.stdout = open(\"temp.txt\", \"a\")\n",
    "    \n",
    "    # building network\n",
    "    autoencoder = Autoencoder(dropout)\n",
    "    auto_optimizer = optim.Adam(autoencoder.parameters(), lr=AUTO_LR)\n",
    "    auto_scheduler = torch.optim.lr_scheduler.CosineAnnealingLR(auto_optimizer, NUM_EPOCH)\n",
    "    \n",
    "    discriminator = Discriminator()\n",
    "    disc_optimizer = optim.Adam(discriminator.parameters(), lr=DISC_LR)\n",
    "    disc_scheduler = torch.optim.lr_scheduler.CosineAnnealingLR(disc_optimizer, NUM_EPOCH)\n",
    "\n",
    "    if torch.cuda.is_available():\n",
    "        torch.cuda.manual_seed(42)\n",
    "        torch.backends.cudnn.deterministic = True\n",
    "        torch.backends.cudnn.benchmark = False\n",
    "        autoencoder = autoencoder.cuda()\n",
    "        discriminator = discriminator.cuda()\n",
    "    \n",
    "    # training network\n",
    "    train(autoencoder, discriminator, trainloader, discriminator_dataset, disc_loader, NUM_EPOCH, ratio=ratio, \n",
    "          steps_without_disc=steps_without_disc, TRAIN_SIZE=TRAIN_SIZE, AUTO_LR=auto_lr, DISC_LR=disc_lr, wd=decay)\n",
    "    \n",
    "    result = get_result(autoencoder, testloader)\n",
    "    \n",
    "    # resetting the stdout\n",
    "    sys.stdout = original_out\n",
    "    return result"
   ]
  },
  {
   "cell_type": "markdown",
   "metadata": {},
   "source": [
    "Optimalizáljunk. A jó eredményhez kezdjük néhány random lépéssel a próbálkozást."
   ]
  },
  {
   "cell_type": "code",
   "execution_count": 5,
   "metadata": {},
   "outputs": [
    {
     "name": "stdout",
     "output_type": "stream",
     "text": [
      "|   iter    |  target   |  auto_lr  |   decay   |  disc_lr  |  dropout  |   nFeat   |   ratio   | steps_... |\n",
      "-------------------------------------------------------------------------------------------------------------\n",
      "|  1        |  0.141    | -4.915    | -4.678    | -7.0      |  0.1814   |  4.761    |  0.2554   |  3.118    |\n",
      "|  2        |  0.1428   | -5.272    | -6.619    | -5.384    |  0.2515   |  11.22    |  0.3227   |  7.269    |\n",
      "|  3        |  0.1436   | -6.863    | -4.977    | -5.748    |  0.3352   |  4.685    |  0.3189   |  6.804    |\n",
      "|  4        |  0.06711  | -2.159    | -7.119    | -4.923    |  0.5258   |  13.74    |  0.251    |  2.234    |\n",
      "|  5        |  0.1459   | -6.151    | -3.731    | -6.705    |  0.2527   |  14.49    |  0.5199   |  6.151    |\n",
      "|  6        |  0.06711  | -2.0      | -3.0      | -7.0      |  5.551e-1 |  3.0      |  0.8      |  8.0      |\n",
      "|  7        |  0.1443   | -7.0      | -9.0      | -7.0      |  0.0      |  3.0      |  0.8      |  8.0      |\n",
      "|  8        |  0.1442   | -7.0      | -9.0      | -7.0      |  0.6      |  15.0     |  0.2      |  8.0      |\n",
      "|  9        |  0.1431   | -7.0      | -9.0      | -4.0      |  0.0      |  3.0      |  0.8      |  2.0      |\n",
      "|  10       |  0.1458   | -7.0      | -4.571    | -7.0      |  0.0      |  9.669    |  0.8      |  2.0      |\n",
      "|  11       |  0.146    | -7.0      | -3.0      | -4.0      |  0.6      |  15.0     |  0.2      |  8.0      |\n",
      "|  12       |  0.1446   | -6.306    | -8.75     | -6.987    |  0.4696   |  6.603    |  0.5174   |  2.243    |\n",
      "|  13       |  0.1451   | -7.0      | -3.0      | -7.0      |  0.0      |  13.95    |  0.2      |  8.0      |\n",
      "|  14       |  0.1442   | -6.925    | -3.333    | -6.336    |  0.2122   |  3.475    |  0.7331   |  2.377    |\n",
      "|  15       |  0.1453   | -6.414    | -8.903    | -4.171    |  0.588    |  3.619    |  0.3478   |  6.846    |\n",
      "|  16       |  0.144    | -6.994    | -6.262    | -6.424    |  0.5671   |  11.4     |  0.6239   |  7.878    |\n",
      "|  17       |  0.1438   | -6.958    | -5.537    | -4.736    |  0.01068  |  13.18    |  0.2614   |  4.867    |\n",
      "|  18       |  0.1458   | -7.0      | -9.0      | -7.0      |  0.6      |  3.0      |  0.2      |  2.0      |\n",
      "|  19       |  0.1466   | -6.886    | -8.483    | -6.979    |  0.0164   |  6.385    |  0.7632   |  4.588    |\n",
      "|  20       |  0.1441   | -6.646    | -3.056    | -4.443    |  0.4487   |  7.622    |  0.205    |  3.704    |\n",
      "|  21       |  0.1443   | -6.813    | -6.388    | -4.397    |  0.004651 |  3.216    |  0.2465   |  3.242    |\n",
      "|  22       |  0.1449   | -6.988    | -8.856    | -5.29     |  0.1494   |  6.61     |  0.2247   |  7.794    |\n",
      "|  23       |  0.1451   | -6.434    | -8.101    | -4.512    |  0.0597   |  14.64    |  0.714    |  7.445    |\n",
      "|  24       |  0.04695  | -3.238    | -8.895    | -6.458    |  0.1972   |  3.384    |  0.5538   |  2.873    |\n",
      "|  25       |  0.06711  | -2.061    | -3.366    | -6.134    |  0.485    |  14.81    |  0.2339   |  7.847    |\n",
      "=============================================================================================================\n",
      "{'target': 0.14664196968078613, 'params': {'auto_lr': -6.88618779714632, 'decay': -8.48265932189115, 'disc_lr': -6.978983628375228, 'dropout': 0.016400224900250216, 'nFeat': 6.384767565842266, 'ratio': 0.7632273303781738, 'steps_without_disc': 4.587750134354231}}\n",
      "Finished after  5027  seconds\n"
     ]
    }
   ],
   "source": [
    "start_time = time.time()\n",
    "optimizer = BayesianOptimization(\n",
    "    f=test_parameters,\n",
    "    pbounds=pbounds,\n",
    "    random_state=1,\n",
    ")\n",
    "\n",
    "optimizer.maximize(\n",
    "    init_points=5,\n",
    "    n_iter=20,\n",
    ")\n",
    "\n",
    "print(optimizer.max)\n",
    "print('Finished after ', round(time.time() - start_time), \" seconds\")"
   ]
  },
  {
   "cell_type": "code",
   "execution_count": null,
   "metadata": {},
   "outputs": [],
   "source": []
  }
 ],
 "metadata": {
  "kernelspec": {
   "display_name": "torch",
   "language": "python",
   "name": "torch_env"
  },
  "language_info": {
   "codemirror_mode": {
    "name": "ipython",
    "version": 3
   },
   "file_extension": ".py",
   "mimetype": "text/x-python",
   "name": "python",
   "nbconvert_exporter": "python",
   "pygments_lexer": "ipython3",
   "version": "3.8.5"
  }
 },
 "nbformat": 4,
 "nbformat_minor": 2
}
