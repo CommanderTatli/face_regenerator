{
 "cells": [
  {
   "cell_type": "markdown",
   "metadata": {},
   "source": [
    "# Neurális háló tanítása\n",
    "\n",
    "#### A hiperparamétereket az optim.ipynb-ben választjuk ki, a hálót felépítő osztályok és metódusok pedig a model.ipynb-ből származnak\n",
    "Kezdjük a modulok hivatkozásával"
   ]
  },
  {
   "cell_type": "code",
   "execution_count": null,
   "metadata": {},
   "outputs": [],
   "source": [
    "import sys\n",
    "sys.path.append('c:\\\\users\\\\ifjto\\\\appdata\\\\local\\\\programs\\\\python\\\\python37\\\\lib\\\\site-packages')\n",
    "import numpy as np\n",
    "import import_ipynb\n",
    "from model import *\n",
    "import numpy as np\n",
    "import torch\n",
    "from torch import nn\n",
    "from torch.utils.data import *\n",
    "import torch.optim as optim\n",
    "import torch.cuda\n",
    "import torchvision.transforms as transforms\n",
    "import cv2\n",
    "import os\n",
    "import time\n",
    "from IPython.display import Image\n",
    "%matplotlib inline\n",
    "import matplotlib\n",
    "import matplotlib.pyplot as plt"
   ]
  },
  {
   "cell_type": "markdown",
   "metadata": {},
   "source": [
    "Nézzük meg, hogy tudunk-e videókártyán futtatni."
   ]
  },
  {
   "cell_type": "code",
   "execution_count": null,
   "metadata": {},
   "outputs": [],
   "source": [
    "if torch.cuda.is_available():\n",
    "    torch.cuda.manual_seed(42)\n",
    "    torch.backends.cudnn.deterministic = True\n",
    "    torch.backends.cudnn.benchmark = False\n",
    "    print(\"CUDA available!\")\n",
    "else:\n",
    "    print(\"CUDA not available!\")"
   ]
  },
  {
   "cell_type": "markdown",
   "metadata": {},
   "source": [
    "Konstansok."
   ]
  },
  {
   "cell_type": "code",
   "execution_count": null,
   "metadata": {},
   "outputs": [],
   "source": [
    "# the maximum number of pictures included in each epoch\n",
    "TRAIN_SIZE = 8000\n",
    "AUTO_LR = pow(10, -3.651289612696951)\n",
    "DISC_LR = pow(10, -6.587095973689431)\n",
    "NUM_EPOCH = 30\n",
    "WD = pow(10, -4.2643240292910685)\n",
    "nFeat = 118\n",
    "SWD = 4\n",
    "dropout = 0.46873611570554313\n",
    "RATIO = 0.41148778160552374"
   ]
  },
  {
   "cell_type": "markdown",
   "metadata": {},
   "source": [
    "Konkrét adatok beolvasása. Kötegméretnek célszerű 2 hatványt használni, a gyorsaság növelése érdekében."
   ]
  },
  {
   "cell_type": "code",
   "execution_count": null,
   "metadata": {},
   "outputs": [],
   "source": [
    "trainloader, testloader, validationloader, discriminator_dataset, disc_loader = get_data(32, TRAIN_SIZE)"
   ]
  },
  {
   "cell_type": "markdown",
   "metadata": {},
   "source": [
    "Konkrét autoencoder háló elkészítése. Loss függvénynek használjunk \"Mean Squared Error\" függvényt."
   ]
  },
  {
   "cell_type": "code",
   "execution_count": null,
   "metadata": {},
   "outputs": [],
   "source": [
    "autoencoder = Autoencoder(nFeat)\n",
    "if torch.cuda.is_available():\n",
    "    autoencoder = autoencoder.cuda()"
   ]
  },
  {
   "cell_type": "markdown",
   "metadata": {},
   "source": [
    "Konkrét diszkriminátor elkészítése."
   ]
  },
  {
   "cell_type": "code",
   "execution_count": null,
   "metadata": {},
   "outputs": [],
   "source": [
    "discriminator = Discriminator(dropout)\n",
    "if torch.cuda.is_available():\n",
    "    discriminator = discriminator.cuda()"
   ]
  },
  {
   "cell_type": "markdown",
   "metadata": {},
   "source": [
    "Tanítás és loss kirajzolása"
   ]
  },
  {
   "cell_type": "code",
   "execution_count": null,
   "metadata": {},
   "outputs": [],
   "source": [
    "train_loss, disc_loss = train(\n",
    "    autoencoder, discriminator, trainloader, discriminator_dataset, disc_loader, NUM_EPOCH, ratio=RATIO,\n",
    "    steps_without_disc=SWD, TRAIN_SIZE=TRAIN_SIZE, AUTO_LR=AUTO_LR, DISC_LR=DISC_LR, wd=WD)\n",
    "plt.figure()\n",
    "plt.plot(train_loss)\n",
    "plt.title('Train and Discriminator Loss')\n",
    "plt.xlabel('Epochs')\n",
    "plt.ylabel('Loss')\n",
    "plt.plot(disc_loss)"
   ]
  },
  {
   "cell_type": "markdown",
   "metadata": {},
   "source": [
    "Állítsunk vissza egy képet próbaként!"
   ]
  },
  {
   "cell_type": "code",
   "execution_count": null,
   "metadata": {},
   "outputs": [],
   "source": [
    "for data in testloader:\n",
    "    pic, real = data\n",
    "    generated = redraw(autoencoder, pic)\n",
    "    print_tensor(generated, 128)\n",
    "    print_tensor(pic, 32)\n",
    "    print_tensor(real)\n",
    "    break"
   ]
  },
  {
   "cell_type": "code",
   "execution_count": null,
   "metadata": {},
   "outputs": [],
   "source": [
    "print(get_result(autoencoder, validationloader))"
   ]
  }
 ],
 "metadata": {
  "kernelspec": {
   "display_name": "Python [conda env:ds]",
   "language": "python",
   "name": "conda-env-ds-py"
  },
  "language_info": {
   "codemirror_mode": {
    "name": "ipython",
    "version": 3
   },
   "file_extension": ".py",
   "mimetype": "text/x-python",
   "name": "python",
   "nbconvert_exporter": "python",
   "pygments_lexer": "ipython3",
   "version": "3.7.3"
  }
 },
 "nbformat": 4,
 "nbformat_minor": 2
}
